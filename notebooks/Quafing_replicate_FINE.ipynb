{
 "cells": [
  {
   "cell_type": "markdown",
   "id": "e64a10d4-d184-4337-99a6-913f7a46fc3c",
   "metadata": {},
   "source": [
    "# Quafing example workflow\n",
    "\n",
    "This notebook demonstrates the use of quafing on the basis of an example workflow analysing quesstionaire data about subaks.\n"
   ]
  },
  {
   "cell_type": "markdown",
   "id": "529cb6ba-cd1e-4e37-b86b-996f3ff6461d",
   "metadata": {},
   "source": [
    "This notebook assumes that it being executed from `quafing/notebooks/`, i.e. that `quafing/quafing/` is at the same directory hierarchy level, with aa shared parent directory. Before beginning we change the working directory to this common parent directory"
   ]
  },
  {
   "cell_type": "code",
   "execution_count": 1,
   "id": "6617d7b9-ea85-42e9-8001-04b461eb9068",
   "metadata": {},
   "outputs": [
    {
     "name": "stdout",
     "output_type": "stream",
     "text": [
      "/Users/eslt0101/Projects/REPOS/eScience/SDCCA/QUAFING\n"
     ]
    }
   ],
   "source": [
    "import os\n",
    "os.chdir('../')\n",
    "print(os.getcwd())"
   ]
  },
  {
   "cell_type": "markdown",
   "id": "c54d0e37-9410-4c67-a7f0-f53b591bddc0",
   "metadata": {},
   "source": [
    "We "
   ]
  },
  {
   "cell_type": "code",
   "execution_count": 2,
   "id": "c4080af1-ed2c-4853-beea-4fbc5bdb1936",
   "metadata": {},
   "outputs": [],
   "source": [
    "import quafing as q"
   ]
  },
  {
   "cell_type": "code",
   "execution_count": 3,
   "id": "7f8f295d-03f3-4fff-adac-84fc1328446c",
   "metadata": {},
   "outputs": [],
   "source": [
    "filepath ='/Users/eslt0101/Projects/SABM/FINE_Code/code/data/omri_subak_data.xlsx'\n"
   ]
  },
  {
   "cell_type": "code",
   "execution_count": 4,
   "id": "6b81d5d4-6a7a-4425-ad53-3000da6e65b2",
   "metadata": {},
   "outputs": [],
   "source": [
    "rawmetadata,rawdata = q.load(filepath)"
   ]
  },
  {
   "cell_type": "code",
   "execution_count": 5,
   "id": "2a8f26b8-91d3-44e9-ae72-ae6955c8a489",
   "metadata": {},
   "outputs": [],
   "source": [
    "prep = q.PreProcessor(rawdata,rawmetadata)"
   ]
  },
  {
   "cell_type": "code",
   "execution_count": 6,
   "id": "5bda46f3-a1a0-4372-8907-726e66b2b153",
   "metadata": {},
   "outputs": [],
   "source": [
    "prep.select_columns(cols=['e'],deselect=True)"
   ]
  },
  {
   "cell_type": "code",
   "execution_count": 7,
   "id": "f965c740-b0a0-4710-ab88-442a2ae637a1",
   "metadata": {},
   "outputs": [],
   "source": [
    "prep.set_cont_disc()"
   ]
  },
  {
   "cell_type": "code",
   "execution_count": 8,
   "id": "ed1b6ffc-9531-4a56-bec0-2cf070a57b95",
   "metadata": {},
   "outputs": [],
   "source": [
    "prep.set_density_method(method='Discrete1D',cols=['o','u','b'])"
   ]
  },
  {
   "cell_type": "code",
   "execution_count": 9,
   "id": "90c9edd1-b428-479e-89fe-0bcf6b76865c",
   "metadata": {},
   "outputs": [],
   "source": [
    "prep.split_to_groups(0)"
   ]
  },
  {
   "cell_type": "code",
   "execution_count": 10,
   "id": "8fb3b372-7a19-4a48-8819-3089e519b785",
   "metadata": {},
   "outputs": [],
   "source": [
    "mdpdfcol = q.create_mdpdf_collection('factorized',prep._groups,prep._grouplabels,prep._groupcolmetadata,)"
   ]
  },
  {
   "cell_type": "code",
   "execution_count": 11,
   "id": "8ef8832e-7b64-4f16-b4f2-86b9ad18bc17",
   "metadata": {},
   "outputs": [],
   "source": [
    "mdpdfcol.calculate_distance_matrix(method='hellinger',pwdist='rms')\n"
   ]
  },
  {
   "cell_type": "code",
   "execution_count": 12,
   "id": "7f7d9f0e-ac99-48eb-869a-75751f5aa630",
   "metadata": {},
   "outputs": [],
   "source": [
    "mdpdfcol.calculate_shortest_path_matrix()"
   ]
  },
  {
   "cell_type": "code",
   "execution_count": 13,
   "id": "1501cedf-0adc-48a0-865e-bdac10daddf3",
   "metadata": {},
   "outputs": [],
   "source": [
    "embedder = q.get_embedder('mds',mdpdfcol)"
   ]
  },
  {
   "cell_type": "code",
   "execution_count": 14,
   "id": "d88b304d-6cf0-44c5-ac68-6e232a43f4be",
   "metadata": {},
   "outputs": [],
   "source": [
    "embedding = embedder.embed(dimension=2,return_all=True)"
   ]
  },
  {
   "cell_type": "code",
   "execution_count": 15,
   "id": "fa01d142-1296-4a7a-94b5-03f29972b4fd",
   "metadata": {},
   "outputs": [
    {
     "data": {
      "text/plain": [
       "{'embedding': array([[-0.90019149,  1.06525927],\n",
       "        [-3.15306911,  1.05423888],\n",
       "        [ 5.45720043,  3.53976654],\n",
       "        [-3.33779766, -0.6919272 ],\n",
       "        [-2.69507127, -1.60809684],\n",
       "        [-0.02600298, -0.23610709],\n",
       "        [-2.58932943, -2.58022469],\n",
       "        [-0.71563226, -2.62394209],\n",
       "        [ 0.16268011, -2.27493602],\n",
       "        [-1.18111943,  3.76508559],\n",
       "        [ 0.90286344,  3.61099183],\n",
       "        [ 1.55208725, -3.66736125],\n",
       "        [-2.37367816,  0.12464148],\n",
       "        [ 4.66255965, -1.18559948],\n",
       "        [ 1.94013727,  2.17950352],\n",
       "        [-1.05165742,  2.17421909],\n",
       "        [ 1.57424752, -0.18744448],\n",
       "        [ 2.7934475 , -1.15901996],\n",
       "        [ 0.41909243,  0.94191967],\n",
       "        [-1.4407664 , -2.24096678]]),\n",
       " 'auxinfo': {'n_components': 2,\n",
       "  'metric': True,\n",
       "  'max_iter': 3000,\n",
       "  'eps': 1e-09,\n",
       "  'random_state': RandomState(MT19937) at 0x7F9F479AD840,\n",
       "  'dissimilarity': 'precomputed',\n",
       "  'n_jobs': 1,\n",
       "  'dimension': 2,\n",
       "  'seed': 3,\n",
       "  'stress': 283.7979150970999,\n",
       "  'embedding_method': 'MDS'}}"
      ]
     },
     "execution_count": 15,
     "metadata": {},
     "output_type": "execute_result"
    }
   ],
   "source": [
    "embedding\n"
   ]
  },
  {
   "cell_type": "code",
   "execution_count": null,
   "id": "27e09255-d867-4277-afa2-f0a17d01c950",
   "metadata": {},
   "outputs": [],
   "source": [
    "embedder.eval_stress_v_dimension(plot=True)"
   ]
  },
  {
   "cell_type": "code",
   "execution_count": 16,
   "id": "0fa1a6ff-5e94-46d9-837c-dad43fe34467",
   "metadata": {},
   "outputs": [
    {
     "data": {
      "image/png": "[encoded data removed]",
      "text/plain": [
       "<Figure size 432x288 with 1 Axes>"
      ]
     },
     "metadata": {},
     "output_type": "display_data"
    }
   ],
   "source": [
    "q.plot_embedding(embedding,mdpdfcol)"
   ]
  },
  {
   "cell_type": "code",
   "execution_count": null,
   "id": "209fd1a1-39c0-4ebe-9d29-b08dea8a7e4e",
   "metadata": {},
   "outputs": [],
   "source": []
  }
 ],
 "metadata": {
  "kernelspec": {
   "display_name": "Python [conda env:finepy3]",
   "language": "python",
   "name": "conda-env-finepy3-py"
  },
  "language_info": {
   "codemirror_mode": {
    "name": "ipython",
    "version": 3
   },
   "file_extension": ".py",
   "mimetype": "text/x-python",
   "name": "python",
   "nbconvert_exporter": "python",
   "pygments_lexer": "ipython3",
   "version": "3.9.7"
  }
 },
 "nbformat": 4,
 "nbformat_minor": 5
}
